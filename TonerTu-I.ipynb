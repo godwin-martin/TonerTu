{
 "cells": [
  {
   "cell_type": "markdown",
   "source": [
    "##  Toner-Tu Model"
   ],
   "metadata": {}
  },
  {
   "cell_type": "markdown",
   "source": [
    "$$\\partial_t \\rho + v_0 \\nabla \\cdot(\\rho \\mathbf{p}) = 0 \\\\ \\ \\\\ \\partial _t \\mathbf{p} + \\lambda_1 (\\mathbf{p} \\cdot \\nabla )\\mathbf{p} = -[\\alpha (\\rho) + \\beta |\\mathbf{p}|^2] \\mathbf{p} + K \\nabla ^2 \\mathbf{p} -v_1 \\nabla \\frac{\\rho}{\\rho_0} + \\frac{\\lambda}{2} \\nabla |\\mathbf{p}|^2 -\\lambda \\mathbf{p} (\\nabla \\cdot \\mathbf{p}) + \\mathbf{f}$$"
   ],
   "metadata": {}
  },
  {
   "cell_type": "markdown",
   "source": [
    "We will choose $\\beta$ to be a constant and $\\alpha(\\rho) = a (1 - \\frac{\\rho}{\\rho_c})$"
   ],
   "metadata": {}
  },
  {
   "cell_type": "markdown",
   "source": [],
   "metadata": {}
  },
  {
   "cell_type": "markdown",
   "source": [
    "## Non-dimensionalisation\n",
    "\n",
    "$$\\tilde{\\rho} = \\rho/\\rho_c$$\n",
    " $$\\tau = \\frac{t}{\\left(\\frac{K}{v_0^2}\\right)}, \\ \\  \\ \\ \\ \\xi = \\frac{x}{\\left(\\frac{K}{v_0}\\right)}, \\ \\ \\ \\ \\  \\eta = \\frac{y}{\\left(\\frac{K}{v_0}\\right)}$$"
   ],
   "metadata": {}
  },
  {
   "cell_type": "markdown",
   "source": [
    "$$\\partial_\\tau \\tilde{\\rho} + \\tilde{\\nabla} \\cdot (\\tilde{\\rho} \\mathbf{p}) = 0\\\\\n",
    "\\ \n",
    "\\ \n",
    "\\partial_\\tau \\mathbf{p} + A (\\mathbf{p} \\cdot \\tilde{\\nabla} )\\mathbf{p} = -\\left[B \\left(1-\\tilde{\\rho}\\right) + C |\\mathbf{p}|^2\\right] \\mathbf{p} + \\tilde{\\nabla}^2 \\mathbf{p}- E \\tilde{\\nabla} \\tilde{\\rho} + F \\left(\\frac{1}{2} \\tilde{\\nabla} |\\mathbf{p}|^2 - \\mathbf{p} (\\tilde{\\nabla} \\cdot \\mathbf{p}) \\right) + B \\mathbf{f}$$"
   ],
   "metadata": {}
  },
  {
   "cell_type": "markdown",
   "source": [
    "Therefore the parameters relevant to our numerical solution are \n",
    "\n",
    "$$A = \\frac{\\lambda_1}{v_0} \\ \\ \\ \\ \\ B= \\frac{K}{v_0^2}a \\ \\ \\ \\ C = \\frac{K}{v_0^2}\\beta\\ \\ \\ \\ E= \\frac{v_1}{v_0}\\frac{\\rho_c}{\\rho_0} \\ \\ \\ \\ F =\\frac{\\lambda}{v_0}\n",
    "$$"
   ],
   "metadata": {}
  },
  {
   "cell_type": "markdown",
   "source": [],
   "metadata": {}
  },
  {
   "cell_type": "code",
   "execution_count": null,
   "source": [
    "import numpy as np\n",
    "from numpy.fft import fft2, ifft2\n",
    "import matplotlib.pyplot as plt\n",
    "from scipy.integrate import odeint\n",
    "from matplotlib import animation\n",
    "import matplotlib.cm as cm\n",
    "plt.rcParams['figure.figsize']=[12,12]\n",
    "plt.rcParams.update({'font.size':18})"
   ],
   "outputs": [],
   "metadata": {}
  },
  {
   "cell_type": "code",
   "execution_count": null,
   "source": [
    "#Setting the discretization parameters\n",
    "N = 20   #number of spatial gridpoints\n",
    "L = 100     #domain length\n",
    "tmax = 20   #time for which solution is obtained\n",
    "dt = 0.1    #time step\n",
    "dx = L/N    #gridsize\n",
    "\n",
    "#Defining the spatial and Fourier space meshes\n",
    "x = y = np.linspace(0,L,N)\n",
    "X, Y = np.meshgrid(x,y)\n",
    "\n",
    "kx = ky = 2* np.pi* np.fft.fftfreq(N, d = dx)\n",
    "KX, KY = np.meshgrid(kx,ky)"
   ],
   "outputs": [],
   "metadata": {}
  },
  {
   "cell_type": "code",
   "execution_count": null,
   "source": [
    "#Function to compute the x derivative\n",
    "def x_deriv(Field):\n",
    "    Fieldhat = fft2(Field)\n",
    "    Field_xhat = (1j)*KX*Fieldhat\n",
    "    Field_x = np.real(ifft2(Field_xhat))\n",
    "    return Field_x\n",
    "\n",
    "#Function to compute the y derivative\n",
    "def y_deriv(Field):\n",
    "    Fieldhat = fft2(Field)\n",
    "    Field_yhat = (1j)*KY*Fieldhat\n",
    "    Field_y = np.real(ifft2(Field_yhat))\n",
    "    return Field_y\n",
    "\n",
    "#Function to compute the scalar laplacian\n",
    "def Laplacian(Field):\n",
    "    Fieldhat = fft2(Field)\n",
    "    Lap_Fieldhat = - (KX**2 + KY**2) * Fieldhat\n",
    "    Lap_Field = np.real(ifft2(Lap_Fieldhat))\n",
    "    return Lap_Field\n"
   ],
   "outputs": [],
   "metadata": {}
  },
  {
   "cell_type": "code",
   "execution_count": null,
   "source": [
    "#Function to compute the $\\partial_t$ term at every instance of time\n",
    "def time_deriv(field,t,A, B, C, E, F):\n",
    "    D, px, py = np.split(field,3)\n",
    "\n",
    "    D = np.reshape(D,(N,N)); px = np.reshape(px,(N,N)); py = np.reshape(py,(N,N))\n",
    "\n",
    "    p_squared = px*px + py*py\n",
    "\n",
    "    #derivatives\n",
    "    px_x = x_deriv(px); px_y = y_deriv(px)\n",
    "    py_x = x_deriv(py); py_y = y_deriv(py)\n",
    "\n",
    "    Dpx_x = x_deriv(D*px); Dpy_y = y_deriv(D*py)\n",
    "\n",
    "    lap_px = Laplacian(px); lap_py = Laplacian(py)\n",
    "\n",
    "    D_x = x_deriv(D); D_y = y_deriv(D)\n",
    "\n",
    "    p_sqrd_x = x_deriv(p_squared); p_sqrd_y = y_deriv(p_squared)\n",
    "\n",
    "    div_p = px_x + py_y; div_Dp = Dpx_x + Dpy_y\n",
    "\n",
    "    px_RHS = -A*(px*px_x + py * px_y) - (B*(1-D)+ C*(p_squared))*px + lap_px - E*D_x + (F/2)* p_sqrd_x - F*px*(div_p)\n",
    "    py_RHS = -A*(px*py_x + py * py_y) - (B*(1-D)+ C*(p_squared))*py + lap_py - E*D_y + (F/2)* p_sqrd_y - F*py*(div_p)\n",
    "\n",
    "    D_t = np.ravel(div_Dp)\n",
    "    px_t = np.ravel(px_RHS)\n",
    "    py_t = np.ravel(py_RHS)\n",
    "\n",
    "    return np.concatenate([D_t, px_t, py_t])"
   ],
   "outputs": [],
   "metadata": {}
  },
  {
   "cell_type": "code",
   "execution_count": null,
   "source": [
    "#Function to animate the density variation given the parameters A, B, C, E, F and the initial conditions\n",
    "\n",
    "def density_anim(a, b, c, e, f, field0):\n",
    "    A = a\n",
    "    B = b\n",
    "    C = c\n",
    "    E = e\n",
    "    F = f\n",
    "\n",
    "    dt = np.abs(t[0] - t[1])\n",
    "    sol = odeint(time_deriv, field0, t, args = (a,b,c,e,f))\n",
    "    re_sol = np.reshape(sol,(int(tmax/dt),3,N,N))\n",
    "\n",
    "    #Animating\n",
    "\n",
    "    plot_args = {'cmap': 'viridis','vmin' : -20, 'vmax' : 20, 'linewidth': 0}\n",
    "\n",
    "\n",
    "\n",
    "    # Initialize line\n",
    "    fig = plt.figure(figsize=(10,8), dpi=200)\n",
    "    ax = fig.gca(projection='3d')\n",
    "    ax.set_zlim(0, 10)\n",
    "    ax.set_xlabel('$x$')\n",
    "    ax.set_ylabel('$y$')\n",
    "    ax.set_zlabel('$ \\\\rho$')\n",
    "    ax.set_title('Density')\n",
    "\n",
    "\n",
    "    TonerTu = ax.plot_surface(X, Y, re_sol[0,0], **plot_args)\n",
    "\n",
    "\n",
    "\n",
    "    # Generate each animation frame\n",
    "    def animate(i):\n",
    "        nonlocal TonerTu\n",
    "    \n",
    "        u = re_sol[i,0]\n",
    "        \n",
    "        TonerTu.remove()\n",
    "        TonerTu = ax.plot_surface(X, Y, u, **plot_args)\n",
    "        return TonerTu,\n",
    "\n",
    "    # Generate MatPlotLib FuncAnimation\n",
    "    disp = animation.FuncAnimation(fig, animate, frames=len(t), interval=1000*dt)\n",
    "    disp.save(f'Toner-Tu1_{a}_{b}_{c}_{e}_{f}.mp4')\n"
   ],
   "outputs": [],
   "metadata": {}
  },
  {
   "cell_type": "code",
   "execution_count": null,
   "source": [
    "#Function to animate the polarisation\n",
    "def polar_anim(a,b,c,e,f,field0):\n",
    "    dt = np.abs(t[0] - t[1])\n",
    "    sol = odeint(time_deriv, field0, t, args = (a,b,c,e,f))\n",
    "    re_sol = np.reshape(sol,(int(tmax/dt),3,N,N))\n",
    "\n",
    "    U = re_sol[0,1] \n",
    "    V = re_sol[0,2]\n",
    "\n",
    "    fig, ax = plt.subplots(1,1)\n",
    "    Q = ax.quiver(X, Y, U, V, pivot='mid', color='r')\n",
    "\n",
    "    ax.set_xlim(0, L)\n",
    "    ax.set_ylim(0, L)\n",
    "\n",
    "    def update_quiver(num, Q, X, Y):\n",
    "        \"\"\"updates the horizontal and vertical vector components by a\n",
    "        fixed increment on each frame\n",
    "        \"\"\"\n",
    "\n",
    "        U = re_sol[num,1]\n",
    "        V = re_sol[num,2]\n",
    "\n",
    "        Q.set_UVC(U,V)\n",
    "\n",
    "        return Q,\n",
    "\n",
    "    # you need to set blit=False, or the first set of arrows never gets\n",
    "    # cleared on subsequent frames\n",
    "    anim = animation.FuncAnimation(fig, update_quiver, fargs=(Q, X, Y), frames = len(t),\n",
    "                               interval=1000*dt, blit=False)\n",
    "    anim.save(f'quiver_{a}_{b}_{c}_{e}_{f}.mp4')\n",
    "    fig.tight_layout()\n",
    "    plt.show()"
   ],
   "outputs": [],
   "metadata": {}
  },
  {
   "cell_type": "code",
   "execution_count": null,
   "source": [
    "t = np.arange(0,tmax,dt)"
   ],
   "outputs": [],
   "metadata": {}
  },
  {
   "cell_type": "markdown",
   "source": [
    "## Case 1 : Equilibrium, noiseless"
   ],
   "metadata": {}
  },
  {
   "cell_type": "markdown",
   "source": [
    "Starting from a homogeneous density and homogeneous polarization state with density equal to the critical density"
   ],
   "metadata": {}
  },
  {
   "cell_type": "code",
   "execution_count": null,
   "source": [
    "#Initial conditions\n",
    "\n",
    "field0 = np.ones((3,N,N))\n",
    "field0 = np.ravel(field0)"
   ],
   "outputs": [],
   "metadata": {}
  },
  {
   "cell_type": "code",
   "execution_count": null,
   "source": [
    "density_anim(1,0.1,0.1,0,0,field0)"
   ],
   "outputs": [],
   "metadata": {}
  },
  {
   "cell_type": "code",
   "execution_count": null,
   "source": [
    "polar_anim(1,0.1,0.1,0,0,field0)"
   ],
   "outputs": [],
   "metadata": {}
  },
  {
   "cell_type": "markdown",
   "source": [
    "Starting from a homogeneous density but random polarization state with density equal to the critical density"
   ],
   "metadata": {}
  },
  {
   "cell_type": "code",
   "execution_count": null,
   "source": [
    "field0 = 0.9*np.ones((3,N,N))\n",
    "field0[1] = np.random.rand(N,N)\n",
    "field0[2] = np.random.rand(N,N)\n",
    "field0 = np.ravel(field0)"
   ],
   "outputs": [],
   "metadata": {}
  },
  {
   "cell_type": "code",
   "execution_count": null,
   "source": [
    "density_anim(1,0.1,0.1,0,0,field0)"
   ],
   "outputs": [],
   "metadata": {}
  },
  {
   "cell_type": "code",
   "execution_count": null,
   "source": [
    "polar_anim(1,0.1,0.1,0,0,field0)"
   ],
   "outputs": [],
   "metadata": {}
  },
  {
   "cell_type": "markdown",
   "source": [
    "## I don't understand what's happening there"
   ],
   "metadata": {}
  },
  {
   "cell_type": "markdown",
   "source": [
    "Starting from a homogeneous density state with density below the critical density"
   ],
   "metadata": {}
  },
  {
   "cell_type": "code",
   "execution_count": null,
   "source": [
    "field0 = np.ones((3,N,N))\n",
    "field0[0] = 0.5*np.ones((N,N))\n",
    "field0 = np.ravel(field0)"
   ],
   "outputs": [],
   "metadata": {}
  },
  {
   "cell_type": "code",
   "execution_count": null,
   "source": [
    "density_anim(1,0.1,0.1,0,0,field0)"
   ],
   "outputs": [],
   "metadata": {}
  },
  {
   "cell_type": "code",
   "execution_count": null,
   "source": [
    "polar_anim(1,0.1,0.1,0,0,field0)"
   ],
   "outputs": [],
   "metadata": {}
  },
  {
   "cell_type": "markdown",
   "source": [
    "Starting from a homogeneous density state whose density is above the critical density"
   ],
   "metadata": {}
  },
  {
   "cell_type": "code",
   "execution_count": null,
   "source": [
    "field0 = np.ones((3,N,N))\n",
    "field0[0] = 2*np.ones((N,N))\n",
    "field0 = np.ravel(field0)"
   ],
   "outputs": [],
   "metadata": {}
  },
  {
   "cell_type": "code",
   "execution_count": null,
   "source": [
    "density_anim(1,0.1,0.1,0,0,field0)"
   ],
   "outputs": [],
   "metadata": {}
  },
  {
   "cell_type": "code",
   "execution_count": null,
   "source": [
    "polar_anim(1,0.1,0.1,0,0,field0)"
   ],
   "outputs": [],
   "metadata": {}
  },
  {
   "cell_type": "markdown",
   "source": [
    "IC : Random density (below the critical value) and uniform polarity"
   ],
   "metadata": {}
  },
  {
   "cell_type": "code",
   "execution_count": null,
   "source": [
    "field0 = np.ones((3,N,N))\n",
    "field0[0] = np.random.rand(N,N)\n",
    "field0 = np.ravel(field0)"
   ],
   "outputs": [],
   "metadata": {}
  },
  {
   "cell_type": "code",
   "execution_count": null,
   "source": [
    "density_anim(1,0.1,0.10,0,0,field0)"
   ],
   "outputs": [],
   "metadata": {}
  },
  {
   "cell_type": "code",
   "execution_count": null,
   "source": [
    "polar_anim(1,0.1,0.1,0,0,field0)"
   ],
   "outputs": [],
   "metadata": {}
  },
  {
   "cell_type": "markdown",
   "source": [
    "IC : Random density (above the critical value) and uniform polarity"
   ],
   "metadata": {}
  },
  {
   "cell_type": "code",
   "execution_count": null,
   "source": [
    "field0 = np.ones((3,N,N))\n",
    "field0[0] = 4*np.random.rand(N,N)\n",
    "field0 = np.ravel(field0)"
   ],
   "outputs": [],
   "metadata": {}
  },
  {
   "cell_type": "code",
   "execution_count": null,
   "source": [
    "density_anim(1,0.1,0.10,0,0,field0)"
   ],
   "outputs": [],
   "metadata": {}
  },
  {
   "cell_type": "markdown",
   "source": [
    "The density fluctuations increase wildly"
   ],
   "metadata": {}
  },
  {
   "cell_type": "code",
   "execution_count": null,
   "source": [
    "polar_anim(1,0.1,0.10,0,0,field0)"
   ],
   "outputs": [],
   "metadata": {}
  },
  {
   "cell_type": "markdown",
   "source": [
    "IC: Random density (below the critical value) and random polarization"
   ],
   "metadata": {}
  },
  {
   "cell_type": "code",
   "execution_count": null,
   "source": [
    "field0 = np.ones((3,N,N))\n",
    "field0[0] = 0.8*np.random.rand(N,N)\n",
    "field0[1] = np.random.rand(N,N)\n",
    "field0[2] = np.random.rand(N,N)\n",
    "field0 = np.ravel(field0)\n"
   ],
   "outputs": [],
   "metadata": {}
  },
  {
   "cell_type": "code",
   "execution_count": null,
   "source": [
    "density_anim(1,0.1,0.1,0,0,field0)"
   ],
   "outputs": [],
   "metadata": {}
  },
  {
   "cell_type": "code",
   "execution_count": null,
   "source": [
    "polar_anim(1,0.1,0.10,0,0,field0)"
   ],
   "outputs": [],
   "metadata": {}
  },
  {
   "cell_type": "markdown",
   "source": [
    "IC: Random density (above the critical value) and random polarization"
   ],
   "metadata": {}
  },
  {
   "cell_type": "code",
   "execution_count": null,
   "source": [
    "field0 = np.ones((3,N,N))\n",
    "field0[0] = 2*np.random.rand(N,N)\n",
    "field0[1] = np.random.rand(N,N)\n",
    "field0[2] = np.random.rand(N,N)\n",
    "field0 = np.ravel(field0)\n"
   ],
   "outputs": [],
   "metadata": {}
  },
  {
   "cell_type": "code",
   "execution_count": null,
   "source": [
    "density_anim(1,0.1,0.1,0,0,field0)"
   ],
   "outputs": [],
   "metadata": {}
  },
  {
   "cell_type": "code",
   "execution_count": null,
   "source": [
    "polar_anim(1,0.1,0.10,0,0,field0)"
   ],
   "outputs": [],
   "metadata": {}
  },
  {
   "cell_type": "markdown",
   "source": [
    "## The polarization animation makes no sense"
   ],
   "metadata": {}
  },
  {
   "cell_type": "code",
   "execution_count": null,
   "source": [],
   "outputs": [],
   "metadata": {}
  }
 ],
 "metadata": {
  "orig_nbformat": 4,
  "language_info": {
   "name": "python"
  }
 },
 "nbformat": 4,
 "nbformat_minor": 2
}